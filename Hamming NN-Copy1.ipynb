{
 "cells": [
  {
   "cell_type": "code",
   "execution_count": 1,
   "id": "consecutive-polls",
   "metadata": {},
   "outputs": [],
   "source": [
    "import numpy as np\n",
    "import pandas as pd\n",
    "from IPython.display import clear_output\n",
    "from scipy.spatial import distance"
   ]
  },
  {
   "cell_type": "markdown",
   "id": "million-developer",
   "metadata": {},
   "source": [
    "# Feedforward"
   ]
  },
  {
   "cell_type": "code",
   "execution_count": 2,
   "id": "hourly-morgan",
   "metadata": {},
   "outputs": [],
   "source": [
    "def Set(k,l):\n",
    "    \n",
    "    #Set variables\n",
    "    W_1 = np.zeros((k,l))\n",
    "    \n",
    "    \n",
    "    #Weight\n",
    "    for i in range(k):\n",
    "        for j in range(l):\n",
    "            W_1[i,j]=int(input(print((j+1),'number of ',(i+1),'prototype')))\n",
    "            \n",
    "            \n",
    "    #Input data (p)\n",
    "    p = np.zeros((1,l))\n",
    "    for n in range(l):\n",
    "        p[0,n] = int(input(print((n+1),'number of input.')))\n",
    "        \n",
    "    return(p,W_1)"
   ]
  },
  {
   "cell_type": "code",
   "execution_count": 3,
   "id": "ranging-difficulty",
   "metadata": {},
   "outputs": [],
   "source": [
    "def FF(p,W_1,R):\n",
    "    #First layer output\n",
    "    \n",
    "    b_1 = np.matrix([[R],[R]])\n",
    "    a_1 = (np.inner(W_1,p))+b_1\n",
    "    \n",
    "    return(a_1)"
   ]
  },
  {
   "cell_type": "code",
   "execution_count": 4,
   "id": "personal-nursing",
   "metadata": {},
   "outputs": [
    {
     "name": "stdout",
     "output_type": "stream",
     "text": [
      "Output of feedforward layer : \n",
      " [[4.]\n",
      " [2.]]\n"
     ]
    }
   ],
   "source": [
    "# import Prototype matrix \n",
    "\n",
    "k = int(input('Number of Prototypes : '))\n",
    "l = int(input('Size of Prototype matrix : '))\n",
    "\n",
    "Input,Weight_1 = Set(k,l)\n",
    "\n",
    "output_1 = FF(Input,Weight_1,l)\n",
    "\n",
    "clear_output()\n",
    "print('Output of feedforward layer : \\n',output_1)"
   ]
  },
  {
   "cell_type": "markdown",
   "id": "apart-break",
   "metadata": {},
   "source": [
    "## Poslin function"
   ]
  },
  {
   "cell_type": "code",
   "execution_count": 5,
   "id": "female-volunteer",
   "metadata": {},
   "outputs": [],
   "source": [
    "def poslin(matrix):\n",
    "    q,w = matrix.shape\n",
    "    m_2 = np.array(matrix.reshape(1,(q*w)))\n",
    "    m_2 = np.where(m_2<0,0,m_2)\n",
    "    m_2 = m_2.reshape(q,w)\n",
    "    m_2 = np.matrix(m_2)\n",
    "    return(m_2)"
   ]
  },
  {
   "cell_type": "markdown",
   "id": "approved-obligation",
   "metadata": {},
   "source": [
    "# Recurrent layer"
   ]
  },
  {
   "cell_type": "markdown",
   "id": "ready-logic",
   "metadata": {},
   "source": [
    "## Iteration"
   ]
  },
  {
   "cell_type": "code",
   "execution_count": 6,
   "id": "extended-saint",
   "metadata": {},
   "outputs": [],
   "source": [
    "def iteration(a2_T,W_2):\n",
    "    a2_T = a2_T.reshape((1,2))\n",
    "    a2_Tp1 = poslin(np.inner(W_2,a2_T))\n",
    "    return(a2_Tp1)"
   ]
  },
  {
   "cell_type": "code",
   "execution_count": 7,
   "id": "equipped-happening",
   "metadata": {},
   "outputs": [],
   "source": [
    "def BW(output_1,S):\n",
    "    \n",
    "    eps = S\n",
    "    \n",
    "    while(eps>(1/(S-1))):\n",
    "        eps = float(input(print('Insert an epsilon less than',(1/(S-1)))))\n",
    "        clear_output()\n",
    "\n",
    "    \n",
    "    W_2 = np.matrix([[1 ,-(eps)],\n",
    "                     [-(eps) ,1]])\n",
    "    \n",
    "    a_2p = np.zeros((1,2))\n",
    "    a_2 = output_1\n",
    "    \n",
    "    while(np.any(np.not_equal(a_2p,a_2))):\n",
    "        a_2p = a_2\n",
    "        a_2 = iteration(a_2p,W_2)\n",
    "        print('New a_2 is : \\n ',a_2)\n",
    "        \n",
    "    return(a_2)"
   ]
  },
  {
   "cell_type": "code",
   "execution_count": 8,
   "id": "identical-mattress",
   "metadata": {},
   "outputs": [
    {
     "name": "stdout",
     "output_type": "stream",
     "text": [
      "New a_2 is : \n",
      "  [[3.]\n",
      " [0.]]\n",
      "New a_2 is : \n",
      "  [[3.]\n",
      " [0.]]\n"
     ]
    }
   ],
   "source": [
    "# Set weight for Recurrent layer\n",
    "output_2 = BW(output_1,k)"
   ]
  },
  {
   "cell_type": "markdown",
   "id": "colonial-vertex",
   "metadata": {},
   "source": [
    "# Output"
   ]
  },
  {
   "cell_type": "code",
   "execution_count": null,
   "id": "greenhouse-contrary",
   "metadata": {},
   "outputs": [],
   "source": [
    "#Calculate Prototype variable\n",
    "\n",
    "d={}\n",
    "for z in range(k):\n",
    "    p = Weight_1[z].reshape((1,3))\n",
    "    O_1 = FF(p,Weight_1,l)\n",
    "    O_2 = BW(O_1,k)\n",
    "\n",
    "    \n",
    "    \n",
    "    d[\"P{0}\".format(z)] = O_2\n",
    "    "
   ]
  },
  {
   "cell_type": "code",
   "execution_count": 29,
   "id": "special-projection",
   "metadata": {},
   "outputs": [
    {
     "name": "stdout",
     "output_type": "stream",
     "text": [
      "\n",
      " Hamming distance Between Class  1  and input \n",
      "\n",
      "0.5\n",
      "\n",
      " Hamming distance Between Class  2  and input \n",
      "\n",
      "1.0\n",
      "\n",
      " ***************** \n",
      "\n",
      "[[-1. -1. -1.]]  is your Input data. \n",
      "\n",
      "From  1  class. \n",
      "\n",
      "With hamming distance :  0.5\n"
     ]
    }
   ],
   "source": [
    "#Find Input class\n",
    "\n",
    "HD_pre = 999\n",
    "j = None\n",
    "for i in range(k):\n",
    "    \n",
    "    print('\\n Hamming distance Between Class ',(i+1),' and input \\n')\n",
    "    HD = distance.hamming(d[\"P{0}\".format(i)],output_2)\n",
    "    print(HD)\n",
    "    \n",
    "    \n",
    "    if(HD<HD_pre):\n",
    "        HD_pre = HD\n",
    "        j = i\n",
    "    \n",
    "    \n",
    "print('\\n ***************** \\n')\n",
    "print(Input,' is your Input data. \\n')\n",
    "print('From ',(j+1),' class. \\n')\n",
    "print('With hamming distance : ',HD_pre)"
   ]
  }
 ],
 "metadata": {
  "kernelspec": {
   "display_name": "Python 3",
   "language": "python",
   "name": "python3"
  },
  "language_info": {
   "codemirror_mode": {
    "name": "ipython",
    "version": 3
   },
   "file_extension": ".py",
   "mimetype": "text/x-python",
   "name": "python",
   "nbconvert_exporter": "python",
   "pygments_lexer": "ipython3",
   "version": "3.8.5"
  }
 },
 "nbformat": 4,
 "nbformat_minor": 5
}

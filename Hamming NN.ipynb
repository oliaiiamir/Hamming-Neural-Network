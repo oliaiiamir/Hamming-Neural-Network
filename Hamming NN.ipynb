{
 "cells": [
  {
   "cell_type": "code",
   "execution_count": 1,
   "id": "consecutive-polls",
   "metadata": {},
   "outputs": [],
   "source": [
    "import numpy as np\n",
    "import pandas as pd\n",
    "from IPython.display import clear_output\n",
    "from scipy.spatial import distance"
   ]
  },
  {
   "cell_type": "markdown",
   "id": "million-developer",
   "metadata": {},
   "source": [
    "# Feedforward"
   ]
  },
  {
   "cell_type": "code",
   "execution_count": null,
   "id": "personal-nursing",
   "metadata": {},
   "outputs": [],
   "source": [
    "# import Prototype matrix \n",
    "\n",
    "k = int(input('Number of Prototypes : '))\n",
    "l = int(input('Size of Prototype matrix : '))\n",
    "\n",
    "output_1 = FF(k,l)\n",
    "print('Output of feedforward layer : \\n',output_1)"
   ]
  },
  {
   "cell_type": "code",
   "execution_count": null,
   "id": "forward-idaho",
   "metadata": {},
   "outputs": [],
   "source": [
    "def FF(k,l):\n",
    "    #Set variables\n",
    "    \n",
    "    W_1 = np.zeros((k,l))\n",
    "    R = l\n",
    "    b_1 = np.matrix([[R],[R]])\n",
    "    \n",
    "    \n",
    "    #Weight\n",
    "    \n",
    "    for i in range(k):\n",
    "        for j in range(l):\n",
    "            W_1[i,j]=int(input(print((j+1),'number of ',(i+1),'prototype')))\n",
    "            \n",
    "    #Input data (p)\n",
    "    \n",
    "    p = np.zeros((1,l))\n",
    "    for n in range(l):\n",
    "        p[0,n] = int(input(print((n+1),'number of input.')))\n",
    "        \n",
    "        \n",
    "    #First layer output\n",
    "    \n",
    "    a_1 = (np.inner(W_1,p))+b_1"
   ]
  },
  {
   "cell_type": "code",
   "execution_count": 2,
   "id": "adjacent-retail",
   "metadata": {},
   "outputs": [
    {
     "name": "stdout",
     "output_type": "stream",
     "text": [
      "Output of feedforward layer : \n",
      " [[4.]\n",
      " [2.]]\n"
     ]
    }
   ],
   "source": [
    "# import Prototype matrix, weight, S, R, bias for first layer \n",
    "\n",
    "\n",
    "k = int(input('Number of Prototypes : '))\n",
    "l = int(input('Size of Prototype matrix : '))\n",
    "W_1 = np.zeros((k,l))\n",
    "S = k\n",
    "R = l\n",
    "b_1 = np.matrix([[R],[R]])\n",
    "\n",
    "\n",
    "for i in range(k):\n",
    "    for j in range(l):\n",
    "        W_1[i,j]=int(input(print((j+1),'number of ',(i+1),'prototype')))\n",
    "        \n",
    "\n",
    "#Input data (p)\n",
    "\n",
    "p = np.zeros((1,l))\n",
    "\n",
    "for n in range(l):\n",
    "    p[0,n] = int(input(print((n+1),'number of input.')))\n",
    "\n",
    "#First layer output\n",
    "\n",
    "a_1 = (np.inner(W_1,p))+b_1\n",
    "\n",
    "clear_output()\n",
    "print('Output of feedforward layer : \\n',a_1)"
   ]
  },
  {
   "cell_type": "markdown",
   "id": "apart-break",
   "metadata": {},
   "source": [
    "## Poslin function"
   ]
  },
  {
   "cell_type": "code",
   "execution_count": 4,
   "id": "female-volunteer",
   "metadata": {},
   "outputs": [],
   "source": [
    "def poslin(matrix):\n",
    "    q,w = matrix.shape\n",
    "    m_2 = np.array(matrix.reshape(1,(q*w)))\n",
    "    m_2 = np.where(m_2<0,0,m_2)\n",
    "    m_2 = m_2.reshape(q,w)\n",
    "    m_2 = np.matrix(m_2)\n",
    "    return(m_2)"
   ]
  },
  {
   "cell_type": "markdown",
   "id": "approved-obligation",
   "metadata": {},
   "source": [
    "# Recurrent layer"
   ]
  },
  {
   "cell_type": "code",
   "execution_count": 19,
   "id": "extended-saint",
   "metadata": {},
   "outputs": [],
   "source": [
    "def iteration(a2_T):\n",
    "    a2_T = a2_T.reshape((1,2))\n",
    "    a2_Tp1 = poslin(np.inner(W_2,a2_T))\n",
    "    return(a2_Tp1)"
   ]
  },
  {
   "cell_type": "code",
   "execution_count": 22,
   "id": "identical-mattress",
   "metadata": {},
   "outputs": [
    {
     "name": "stdout",
     "output_type": "stream",
     "text": [
      "Insert an epsilon less than 1.0\n",
      "None.5\n",
      "New a_2 is : \n",
      "  [[3.]\n",
      " [0.]]\n",
      "New a_2 is : \n",
      "  [[3.]\n",
      " [0.]]\n"
     ]
    }
   ],
   "source": [
    "# Set weight for Recurrent layer\n",
    "S = k\n",
    "eps = S\n",
    "while(eps>(1/(S-1))):\n",
    "    eps = float(input(print('Insert an epsilon less than',(1/(S-1)))))\n",
    "\n",
    "    \n",
    "W_2 = np.matrix([[1 ,-(eps)],\n",
    "                 [-(eps) ,1]])\n",
    "\n",
    "\n",
    "a_2p = np.zeros((1,2))\n",
    "a_2 = a_1\n",
    "while(np.any(np.not_equal(a_2p,a_2))):\n",
    "    a_2p = a_2\n",
    "    a_2 = iteration(a_2p)\n",
    "    print('New a_2 is : \\n ',a_2)"
   ]
  },
  {
   "cell_type": "markdown",
   "id": "colonial-vertex",
   "metadata": {},
   "source": [
    "# Output"
   ]
  },
  {
   "cell_type": "code",
   "execution_count": 29,
   "id": "ceramic-thanks",
   "metadata": {},
   "outputs": [
    {
     "ename": "IndexError",
     "evalue": "list assignment index out of range",
     "output_type": "error",
     "traceback": [
      "\u001b[1;31m---------------------------------------------------------------------------\u001b[0m",
      "\u001b[1;31mIndexError\u001b[0m                                Traceback (most recent call last)",
      "\u001b[1;32m<ipython-input-29-9ba65dbc63bd>\u001b[0m in \u001b[0;36m<module>\u001b[1;34m\u001b[0m\n\u001b[0;32m      2\u001b[0m \u001b[0mprototype\u001b[0m \u001b[1;33m=\u001b[0m \u001b[1;33m[\u001b[0m\u001b[1;33m]\u001b[0m\u001b[1;33m\u001b[0m\u001b[1;33m\u001b[0m\u001b[0m\n\u001b[0;32m      3\u001b[0m \u001b[1;32mfor\u001b[0m \u001b[0mi\u001b[0m \u001b[1;32min\u001b[0m \u001b[0mrange\u001b[0m\u001b[1;33m(\u001b[0m\u001b[0mq\u001b[0m\u001b[1;33m)\u001b[0m\u001b[1;33m:\u001b[0m\u001b[1;33m\u001b[0m\u001b[1;33m\u001b[0m\u001b[0m\n\u001b[1;32m----> 4\u001b[1;33m     \u001b[0mprototype\u001b[0m\u001b[1;33m[\u001b[0m\u001b[0mi\u001b[0m\u001b[1;33m]\u001b[0m \u001b[1;33m=\u001b[0m \u001b[0mW_1\u001b[0m\u001b[1;33m[\u001b[0m\u001b[0mi\u001b[0m\u001b[1;33m]\u001b[0m\u001b[1;33m\u001b[0m\u001b[1;33m\u001b[0m\u001b[0m\n\u001b[0m",
      "\u001b[1;31mIndexError\u001b[0m: list assignment index out of range"
     ]
    }
   ],
   "source": [
    "q,w = W_1.shape\n",
    "\n",
    "for i in range(q):\n",
    "    "
   ]
  },
  {
   "cell_type": "code",
   "execution_count": 52,
   "id": "fitted-river",
   "metadata": {},
   "outputs": [
    {
     "data": {
      "text/plain": [
       "1.0"
      ]
     },
     "execution_count": 52,
     "metadata": {},
     "output_type": "execute_result"
    }
   ],
   "source": [
    "distance.hamming([0,3], [-1, -1])"
   ]
  },
  {
   "cell_type": "code",
   "execution_count": null,
   "id": "precise-retrieval",
   "metadata": {},
   "outputs": [],
   "source": [
    "dis"
   ]
  }
 ],
 "metadata": {
  "kernelspec": {
   "display_name": "Python 3",
   "language": "python",
   "name": "python3"
  },
  "language_info": {
   "codemirror_mode": {
    "name": "ipython",
    "version": 3
   },
   "file_extension": ".py",
   "mimetype": "text/x-python",
   "name": "python",
   "nbconvert_exporter": "python",
   "pygments_lexer": "ipython3",
   "version": "3.8.5"
  }
 },
 "nbformat": 4,
 "nbformat_minor": 5
}
